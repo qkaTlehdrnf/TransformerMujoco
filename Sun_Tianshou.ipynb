{
 "cells": [
  {
   "cell_type": "code",
   "execution_count": 4,
   "metadata": {},
   "outputs": [],
   "source": [
    "import mujoco\n",
    "import gym\n",
    "import numpy as np\n",
    "import matplotlib.pyplot as plt\n",
    "import os\n",
    "\n",
    "import tianshou as ts\n",
    "\n",
    "import torch as tc\n",
    "import torch.nn as nn\n",
    "import torch.nn.functional as F\n",
    "import torch.optim as optim\n",
    "from torch.utils.data import DataLoader, Dataset, random_split, ConcatDataset\n"
   ]
  },
  {
   "cell_type": "code",
   "execution_count": 5,
   "metadata": {},
   "outputs": [],
   "source": [
    "env = gym.make(\"custom_env:XiaoTian-v0\", render_mode=\"rgb_array\")\n",
    "obj = env.reset()\n"
   ]
  },
  {
   "cell_type": "code",
   "execution_count": 6,
   "metadata": {},
   "outputs": [],
   "source": [
    "train_envs = ts.env.DummyVectorEnv(\n",
    "    [lambda: gym.make('custom_env:XiaoTian-v0') for _ in range(10)])\n",
    "test_envs = ts.env.DummyVectorEnv(\n",
    "    [lambda: gym.make('custom_env:XiaoTian-v0') for _ in range(100)])\n"
   ]
  }
 ],
 "metadata": {
  "kernelspec": {
   "display_name": "Python 3.8.15 ('opai38')",
   "language": "python",
   "name": "python3"
  },
  "language_info": {
   "codemirror_mode": {
    "name": "ipython",
    "version": 3
   },
   "file_extension": ".py",
   "mimetype": "text/x-python",
   "name": "python",
   "nbconvert_exporter": "python",
   "pygments_lexer": "ipython3",
   "version": "3.8.12"
  },
  "orig_nbformat": 4,
  "vscode": {
   "interpreter": {
    "hash": "7d3f835a4b948784ca20ac72d64ce18f0dda5bbcfae06d93dd95fbc6fda5db3f"
   }
  }
 },
 "nbformat": 4,
 "nbformat_minor": 2
}
