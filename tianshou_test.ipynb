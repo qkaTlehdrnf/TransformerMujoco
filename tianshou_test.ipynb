{
 "cells": [
  {
   "cell_type": "code",
   "execution_count": 2,
   "metadata": {},
   "outputs": [
    {
     "name": "stderr",
     "output_type": "stream",
     "text": [
      "/Users/qkatlehdrnf/opt/anaconda3/envs/opai39/lib/python3.9/site-packages/tqdm/auto.py:22: TqdmWarning: IProgress not found. Please update jupyter and ipywidgets. See https://ipywidgets.readthedocs.io/en/stable/user_install.html\n",
      "  from .autonotebook import tqdm as notebook_tqdm\n"
     ]
    }
   ],
   "source": [
    "import mujoco\n",
    "import gym\n",
    "import tianshou as ts\n",
    "import numpy as np"
   ]
  },
  {
   "cell_type": "code",
   "execution_count": 8,
   "metadata": {},
   "outputs": [
    {
     "name": "stderr",
     "output_type": "stream",
     "text": [
      "/Users/qkatlehdrnf/opt/anaconda3/envs/opai39/lib/python3.9/site-packages/gym/utils/passive_env_checker.py:64: UserWarning: \u001b[33mWARN: A Box action space maximum and minimum values are equal.\u001b[0m\n",
      "  logger.warn(\"A Box action space maximum and minimum values are equal.\")\n"
     ]
    },
    {
     "data": {
      "text/plain": [
       "(array([-0.08844834,  0.99423349,  0.02522243,  0.04961169, -0.09166388,\n",
       "         0.05169569,  0.09740672, -0.07451653, -0.0453078 ,  0.06623219,\n",
       "         0.02131772,  0.04698502,  0.08980745, -0.07644738,  0.08400598,\n",
       "         0.02799501, -0.04792939,  0.04569674, -0.07739866, -0.03838727,\n",
       "        -0.03277548,  0.09526785,  0.05365187,  0.0504775 , -0.0279894 ,\n",
       "        -0.24485   ,  0.0537131 , -0.07676325, -0.03612536,  0.01226874,\n",
       "         0.02797546,  0.08457968, -0.18778297,  0.02922114, -0.04459452,\n",
       "         0.06539261,  0.04044155,  0.07328328, -0.07929681, -0.13205696,\n",
       "         0.05311957, -0.00215206, -0.12678795, -0.01520035, -0.01222321,\n",
       "        -0.01858538, -0.15636012,  0.10649006,  0.01368705,  0.08390033,\n",
       "        -0.00172834]),\n",
       " {})"
      ]
     },
     "execution_count": 8,
     "metadata": {},
     "output_type": "execute_result"
    }
   ],
   "source": [
    "env = gym.make('custom_env:XiaoTian-v0')\n",
    "env.reset()"
   ]
  },
  {
   "cell_type": "markdown",
   "metadata": {},
   "source": [
    "custom_env:XiaoTian-v0\n",
    "custom_env:XiaoTian-v0"
   ]
  },
  {
   "cell_type": "code",
   "execution_count": 9,
   "metadata": {},
   "outputs": [
    {
     "name": "stderr",
     "output_type": "stream",
     "text": [
      "/Users/qkatlehdrnf/opt/anaconda3/envs/opai39/lib/python3.9/site-packages/gym/envs/mujoco/mujoco_env.py:363: UserWarning: \u001b[33mWARN: You are calling render method without specifying any render mode. You can specify the render_mode at initialization, e.g. gym(\"XiaoTian-v0\", render_mode=\"rgb_array\")\u001b[0m\n",
      "  gym.logger.warn(\n"
     ]
    }
   ],
   "source": [
    "env.render()"
   ]
  },
  {
   "cell_type": "code",
   "execution_count": null,
   "metadata": {},
   "outputs": [],
   "source": []
  },
  {
   "cell_type": "code",
   "execution_count": 27,
   "metadata": {},
   "outputs": [
    {
     "data": {
      "text/plain": [
       "Box(0.0, 0.0, (20,), float32)"
      ]
     },
     "execution_count": 27,
     "metadata": {},
     "output_type": "execute_result"
    }
   ],
   "source": [
    "env.action_space"
   ]
  },
  {
   "cell_type": "code",
   "execution_count": 3,
   "metadata": {},
   "outputs": [],
   "source": [
    "train_envs = gym.make('custom_env:XiaoTian-v0')\n",
    "test_envs = gym.make('custom_env:XiaoTian-v0')\n"
   ]
  },
  {
   "cell_type": "code",
   "execution_count": 7,
   "metadata": {},
   "outputs": [
    {
     "name": "stderr",
     "output_type": "stream",
     "text": [
      "/Users/qkatlehdrnf/opt/anaconda3/envs/opai39/lib/python3.9/site-packages/gym/utils/passive_env_checker.py:64: UserWarning: \u001b[33mWARN: A Box action space maximum and minimum values are equal.\u001b[0m\n",
      "  logger.warn(\"A Box action space maximum and minimum values are equal.\")\n"
     ]
    }
   ],
   "source": [
    "train_envs = ts.env.DummyVectorEnv(\n",
    "    [lambda: gym.make('custom_env:XiaoTian-v0') for _ in range(10)])\n",
    "test_envs = ts.env.DummyVectorEnv(\n",
    "    [lambda: gym.make('custom_env:XiaoTian-v0') for _ in range(100)])\n"
   ]
  },
  {
   "cell_type": "markdown",
   "metadata": {},
   "source": [
    "DQN이 왜 안되냐면 일단 기본적으로 Argmax를 이용하게 되는데 그러면 net의 return이 2**20이 되야 한다."
   ]
  },
  {
   "cell_type": "code",
   "execution_count": 14,
   "metadata": {},
   "outputs": [],
   "source": [
    "import torch as tc\n",
    "import numpy as np\n",
    "from torch import nn\n",
    "\n",
    "\n",
    "class ActorNet(nn.Module):\n",
    "    def __init__(self, state_shape, action_shape):\n",
    "        super().__init__()\n",
    "        self.model = nn.Sequential(\n",
    "            nn.Linear(np.prod(state_shape), 128), nn.ReLU(inplace=True),\n",
    "            nn.Linear(128, 128), nn.ReLU(inplace=True),\n",
    "            nn.Linear(128, 128), nn.ReLU(inplace=True),\n",
    "            nn.Linear(128, np.prod(action_shape)),\n",
    "        )\n",
    "\n",
    "    def forward(self, obs, state=None, info={}):\n",
    "        if not isinstance(obs, tc.Tensor):\n",
    "            obs = tc.tensor(obs, dtype=tc.float)\n",
    "        batch = obs.shape[0]\n",
    "        logits = self.model(obs.view(batch, -1))\n",
    "        return logits, state\n",
    "\n",
    "class CriticNet(nn.Module):\n",
    "    def __init__(self, state_shape, action_shape):\n",
    "        super().__init__()\n",
    "        self.model = nn.Sequential(\n",
    "            nn.Linear(np.prod(state_shape) + np.prod(action_shape), 128),\n",
    "            nn.ReLU(inplace=True),\n",
    "            nn.Linear(128, 128), nn.ReLU(inplace=True),\n",
    "            nn.Linear(128, 128), nn.ReLU(inplace=True),\n",
    "            nn.Linear(128, 1),\n",
    "        )\n",
    "\n",
    "    def forward(self, obs, act, state=None, info={}):\n",
    "        if not isinstance(obs, tc.Tensor):\n",
    "            obs = tc.tensor(obs, dtype=tc.float)\n",
    "        if not isinstance(act, tc.Tensor):\n",
    "            act = tc.tensor(act, dtype=tc.float)\n",
    "        batch = obs.shape[0]\n",
    "        x = tc.cat([obs.view(batch, -1), act.view(batch, -1)], dim=1)\n",
    "        logits = self.model(x)\n",
    "        return logits\n",
    "\n",
    "\n",
    "state_shape = env.observation_space.shape or env.observation_space.n\n",
    "action_shape = env.action_space.shape or env.action_space.n\n",
    "ActorNet = ActorNet(state_shape, action_shape)\n",
    "CriticNet = CriticNet(state_shape, action_shape)\n",
    "Aoptim = tc.optim.Adam(ActorNet.parameters(), lr=1e-3)\n",
    "Coptim = tc.optim.Adam(CriticNet.parameters(), lr=1e-3)"
   ]
  },
  {
   "cell_type": "code",
   "execution_count": 32,
   "metadata": {},
   "outputs": [
    {
     "data": {
      "text/plain": [
       "CriticNet(\n",
       "  (model): Sequential(\n",
       "    (0): Linear(in_features=71, out_features=128, bias=True)\n",
       "    (1): ReLU(inplace=True)\n",
       "    (2): Linear(in_features=128, out_features=128, bias=True)\n",
       "    (3): ReLU(inplace=True)\n",
       "    (4): Linear(in_features=128, out_features=128, bias=True)\n",
       "    (5): ReLU(inplace=True)\n",
       "    (6): Linear(in_features=128, out_features=1, bias=True)\n",
       "  )\n",
       ")"
      ]
     },
     "execution_count": 32,
     "metadata": {},
     "output_type": "execute_result"
    }
   ],
   "source": [
    "CriticNet"
   ]
  },
  {
   "cell_type": "code",
   "execution_count": 15,
   "metadata": {},
   "outputs": [],
   "source": [
    "policy = ts.policy.DDPGPolicy(actor=ActorNet, actor_optim=Aoptim, critic=CriticNet, critic_optim=Coptim, estimation_step=3)\n"
   ]
  },
  {
   "cell_type": "code",
   "execution_count": 33,
   "metadata": {},
   "outputs": [],
   "source": [
    "train_collector = ts.data.Collector(\n",
    "    policy, train_envs, ts.data.VectorReplayBuffer(200000, 10), exploration_noise=True)\n",
    "test_collector = ts.data.Collector(policy, test_envs, exploration_noise=True)\n"
   ]
  },
  {
   "cell_type": "code",
   "execution_count": 1,
   "metadata": {},
   "outputs": [
    {
     "ename": "NameError",
     "evalue": "name 'ts' is not defined",
     "output_type": "error",
     "traceback": [
      "\u001b[0;31m---------------------------------------------------------------------------\u001b[0m",
      "\u001b[0;31mNameError\u001b[0m                                 Traceback (most recent call last)",
      "Cell \u001b[0;32mIn [1], line 1\u001b[0m\n\u001b[0;32m----> 1\u001b[0m result \u001b[39m=\u001b[39m ts\u001b[39m.\u001b[39mtrainer\u001b[39m.\u001b[39moffpolicy_trainer(\n\u001b[1;32m      2\u001b[0m     policy, train_collector, test_collector,\n\u001b[1;32m      3\u001b[0m     max_epoch\u001b[39m=\u001b[39m\u001b[39m100\u001b[39m, step_per_epoch\u001b[39m=\u001b[39m\u001b[39m10000\u001b[39m, step_per_collect\u001b[39m=\u001b[39m\u001b[39m10\u001b[39m,\n\u001b[1;32m      4\u001b[0m     update_per_step\u001b[39m=\u001b[39m\u001b[39m0.1\u001b[39m, episode_per_test\u001b[39m=\u001b[39m\u001b[39m15\u001b[39m, batch_size\u001b[39m=\u001b[39m\u001b[39m64\u001b[39m,\n\u001b[1;32m      5\u001b[0m     stop_fn\u001b[39m=\u001b[39m\u001b[39mlambda\u001b[39;00m mean_rewards: mean_rewards \u001b[39m>\u001b[39m\u001b[39m=\u001b[39m env\u001b[39m.\u001b[39mspec\u001b[39m.\u001b[39mreward_threshold)\n\u001b[1;32m      6\u001b[0m \u001b[39mprint\u001b[39m(\u001b[39mf\u001b[39m\u001b[39m'\u001b[39m\u001b[39mFinished training! Use \u001b[39m\u001b[39m{\u001b[39;00mresult[\u001b[39m\"\u001b[39m\u001b[39mduration\u001b[39m\u001b[39m\"\u001b[39m]\u001b[39m}\u001b[39;00m\u001b[39m'\u001b[39m)\n",
      "\u001b[0;31mNameError\u001b[0m: name 'ts' is not defined"
     ]
    }
   ],
   "source": [
    "result = ts.trainer.offpolicy_trainer(\n",
    "    policy, train_collector, test_collector,\n",
    "    max_epoch=100, step_per_epoch=10000, step_per_collect=10,\n",
    "    update_per_step=0.1, episode_per_test=15, batch_size=64,\n",
    "    stop_fn=lambda mean_rewards: mean_rewards >= env.spec.reward_threshold)\n",
    "print(f'Finished training! Use {result[\"duration\"]}')\n"
   ]
  },
  {
   "cell_type": "code",
   "execution_count": 18,
   "metadata": {},
   "outputs": [],
   "source": [
    "from torch.utils.tensorboard import SummaryWriter\n",
    "from tianshou.utils import TensorboardLogger\n",
    "writer = SummaryWriter('log/dqn')\n",
    "logger = TensorboardLogger(writer)\n"
   ]
  },
  {
   "cell_type": "code",
   "execution_count": 21,
   "metadata": {},
   "outputs": [
    {
     "data": {
      "text/plain": [
       "<All keys matched successfully>"
      ]
     },
     "execution_count": 21,
     "metadata": {},
     "output_type": "execute_result"
    }
   ],
   "source": [
    "tc.save(policy.state_dict(), 'dqn.pth')\n",
    "policy.load_state_dict(tc.load('dqn.pth'))"
   ]
  },
  {
   "cell_type": "code",
   "execution_count": 24,
   "metadata": {},
   "outputs": [
    {
     "name": "stderr",
     "output_type": "stream",
     "text": [
      "/Users/qkatlehdrnf/opt/anaconda3/envs/opai39/lib/python3.9/site-packages/tianshou/data/collector.py:68: UserWarning: Single environment detected, wrap to DummyVectorEnv.\n",
      "  warnings.warn(\"Single environment detected, wrap to DummyVectorEnv.\")\n",
      "/Users/qkatlehdrnf/opt/anaconda3/envs/opai39/lib/python3.9/site-packages/gym/envs/mujoco/mujoco_env.py:363: UserWarning: \u001b[33mWARN: You are calling render method without specifying any render mode. You can specify the render_mode at initialization, e.g. gym(\"XiaoTian-v0\", render_mode=\"rgb_array\")\u001b[0m\n",
      "  gym.logger.warn(\n"
     ]
    },
    {
     "data": {
      "text/plain": [
       "{'n/ep': 1,\n",
       " 'n/st': 1,\n",
       " 'rews': array([0.88650187]),\n",
       " 'lens': array([1]),\n",
       " 'idxs': array([0]),\n",
       " 'rew': 0.8865018660339451,\n",
       " 'len': 1.0,\n",
       " 'rew_std': 0.0,\n",
       " 'len_std': 0.0}"
      ]
     },
     "execution_count": 24,
     "metadata": {},
     "output_type": "execute_result"
    }
   ],
   "source": [
    "policy.eval()\n",
    "# policy.set_eps(0.05)\n",
    "collector = ts.data.Collector(policy, env, exploration_noise=True)\n",
    "collector.collect(n_episode=1, render=1 / 35)"
   ]
  },
  {
   "cell_type": "code",
   "execution_count": 25,
   "metadata": {},
   "outputs": [
    {
     "ename": "NameError",
     "evalue": "name 'Batch' is not defined",
     "output_type": "error",
     "traceback": [
      "\u001b[0;31m---------------------------------------------------------------------------\u001b[0m",
      "\u001b[0;31mNameError\u001b[0m                                 Traceback (most recent call last)",
      "Cell \u001b[0;32mIn [25], line 1\u001b[0m\n\u001b[0;32m----> 1\u001b[0m action \u001b[39m=\u001b[39m policy(Batch(obs\u001b[39m=\u001b[39mnp\u001b[39m.\u001b[39marray([obs])))\u001b[39m.\u001b[39mact[\u001b[39m0\u001b[39m]\n",
      "\u001b[0;31mNameError\u001b[0m: name 'Batch' is not defined"
     ]
    }
   ],
   "source": [
    "\n",
    "action = policy(Batch(obs=np.array([obs]))).act[0]"
   ]
  },
  {
   "cell_type": "code",
   "execution_count": null,
   "metadata": {},
   "outputs": [],
   "source": []
  }
 ],
 "metadata": {
  "kernelspec": {
   "display_name": "Python 3.9.7 ('opai39')",
   "language": "python",
   "name": "python3"
  },
  "language_info": {
   "codemirror_mode": {
    "name": "ipython",
    "version": 3
   },
   "file_extension": ".py",
   "mimetype": "text/x-python",
   "name": "python",
   "nbconvert_exporter": "python",
   "pygments_lexer": "ipython3",
   "version": "3.9.7"
  },
  "orig_nbformat": 4,
  "vscode": {
   "interpreter": {
    "hash": "73cdbbd1da39e4402e679af31444b89f148a8f25b7f94cecb4308e3e06250817"
   }
  }
 },
 "nbformat": 4,
 "nbformat_minor": 2
}
