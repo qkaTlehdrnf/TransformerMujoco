{
 "cells": [
  {
   "cell_type": "markdown",
   "metadata": {},
   "source": [
    "glfw error ImportError: Failed to load GLFW3 shared library.\n",
    "어떻게 해결했냐고? base에서는 깔아서 되길래 base에 있는 glfw copy paste 해서 해결함.... 뭐지?"
   ]
  },
  {
   "cell_type": "code",
   "execution_count": 6,
   "metadata": {},
   "outputs": [],
   "source": [
    "import mujoco\n",
    "import gym\n",
    "import numpy as np\n",
    "# import matplotlib.pyplot as plt\n",
    "import os\n",
    "import torch as tc\n",
    "import torch.nn as nn\n",
    "import torch.nn.functional as F\n",
    "import torch.optim as optim\n",
    "from torch.utils.data import DataLoader, Dataset, random_split, ConcatDataset"
   ]
  },
  {
   "cell_type": "code",
   "execution_count": 3,
   "metadata": {},
   "outputs": [],
   "source": [
    "env = gym.make(\"Ant-v4\", render_mode=\"rgb_array\")\n",
    "obj = env.reset()"
   ]
  },
  {
   "cell_type": "code",
   "execution_count": 3,
   "metadata": {},
   "outputs": [
    {
     "ename": "NameError",
     "evalue": "name 'env' is not defined",
     "output_type": "error",
     "traceback": [
      "\u001b[0;31m---------------------------------------------------------------------------\u001b[0m",
      "\u001b[0;31mNameError\u001b[0m                                 Traceback (most recent call last)",
      "Cell \u001b[0;32mIn [3], line 2\u001b[0m\n\u001b[1;32m      1\u001b[0m action \u001b[39m=\u001b[39m \u001b[39m0\u001b[39m\n\u001b[0;32m----> 2\u001b[0m obs, reward, done, info \u001b[39m=\u001b[39m env\u001b[39m.\u001b[39mstep(action)\n",
      "\u001b[0;31mNameError\u001b[0m: name 'env' is not defined"
     ]
    }
   ],
   "source": [
    "action = 0\n",
    "obs, reward, done, info = env.step(action)\n"
   ]
  },
  {
   "cell_type": "code",
   "execution_count": 7,
   "metadata": {},
   "outputs": [
    {
     "ename": "ValueError",
     "evalue": "XML parse error 3:\nError=XML_ERROR_FILE_NOT_FOUND ErrorID=3 (0x3) Line number=0: filename=20robot/scene.xml\n",
     "output_type": "error",
     "traceback": [
      "\u001b[0;31m---------------------------------------------------------------------------\u001b[0m",
      "\u001b[0;31mValueError\u001b[0m                                Traceback (most recent call last)",
      "Cell \u001b[0;32mIn [7], line 1\u001b[0m\n\u001b[0;32m----> 1\u001b[0m model \u001b[39m=\u001b[39m mujoco\u001b[39m.\u001b[39;49mMjModel\u001b[39m.\u001b[39;49mfrom_xml_path(\u001b[39m\"\u001b[39;49m\u001b[39m20robot/scene.xml\u001b[39;49m\u001b[39m\"\u001b[39;49m)\u001b[39m#autolimits 에러 나면 2.2.2이상으로 업그레이드\u001b[39;00m\n\u001b[1;32m      2\u001b[0m data \u001b[39m=\u001b[39m mujoco\u001b[39m.\u001b[39mMjData(model)\n\u001b[1;32m      3\u001b[0m mujoco\u001b[39m.\u001b[39mmj_step(model, data)\n",
      "\u001b[0;31mValueError\u001b[0m: XML parse error 3:\nError=XML_ERROR_FILE_NOT_FOUND ErrorID=3 (0x3) Line number=0: filename=20robot/scene.xml\n"
     ]
    }
   ],
   "source": [
    "model = mujoco.MjModel.from_xml_path(\"20robot/scene.xml\")#autolimits 에러 나면 2.2.2이상으로 업그레이드\n",
    "data = mujoco.MjData(model)\n",
    "mujoco.mj_step(model, data)"
   ]
  },
  {
   "cell_type": "markdown",
   "metadata": {},
   "source": [
    "joint가 20개고 각각이 qpos랑 qvel 가지고 있으니까 총 40개 input?\n",
    "\n",
    "문제는 얘가 얼만큼 돌아갔는지를 모른다는건데... 그러면 qpos 27개까지 다 넣으면 input값만 총 67개가 되고... 근데 너무 크니까 좀 분리를 시켜보자\n",
    "\n",
    "==> part_1 의 x_quat만 들어가는거로 하자. xpos는 보니까 3*3형태로 orientation이 들어가는데 이걸 2*2로 줄이는 수학적 방법의 결과물이 x_quat임.\n",
    "\n",
    "joint:qpos 20, qvel 20/ part_1: x_quat 4, x_pos 1(z축 하나)\n",
    "\n",
    "\n",
    "\n",
    "20x16 + 20x16 + 27*16"
   ]
  },
  {
   "cell_type": "code",
   "execution_count": null,
   "metadata": {},
   "outputs": [],
   "source": [
    "def train(model, optimizer, loss_fn, train_loader, val_loader, epochs=10):\n",
    "    for epoch in range(epochs):\n",
    "        model.train()\n",
    "        train_loss = 0\n",
    "        for batch in train_loader:\n",
    "            x, y = batch\n",
    "            x = x.to(device)\n",
    "            y = y.to(device)\n",
    "            optimizer.zero_grad()\n",
    "            pred = model(x)\n",
    "            loss = loss_fn(pred, y)\n",
    "            loss.backward()\n",
    "            optimizer.step()\n",
    "            train_loss += loss.item()\n",
    "        train_loss /= len(train_loader)\n",
    "        model.eval()\n",
    "        val_loss = 0\n",
    "        for batch in val_loader:\n",
    "            x, y = batch\n",
    "            x = x.to(device)\n",
    "            y = y.to(device)\n",
    "            pred = model(x)\n",
    "            loss = loss_fn(pred, y)\n",
    "            val_loss += loss.item()\n",
    "        val_loss /= len(val_loader)\n",
    "        print(f\"Epoch {epoch+1}/{epochs}, Train Loss: {train_loss:.4f}, Val Loss: {val_loss:.4f}\")"
   ]
  },
  {
   "cell_type": "code",
   "execution_count": null,
   "metadata": {},
   "outputs": [],
   "source": [
    "class BasicLinear(nn.Module):\n",
    "    def __init__(self, input_size=45):#qpos=20, qvel, ctrl\n",
    "        super().__init__()\n",
    "        self.fc1 = nn.Linear(in_features=input_size, out_features=32)\n",
    "        self.fc2 = nn.Linear(in_features=32, out_features=20)\n",
    "        self.tanh = nn.Tanh()\n",
    "        # self.drop = nn.Dropout(0.2)\n",
    "    def forward(self, x):\n",
    "        x = F.relu(self.fc1(x))\n",
    "        x = self.tanh(self.fc2(x))\n",
    "        return x"
   ]
  },
  {
   "cell_type": "code",
   "execution_count": null,
   "metadata": {},
   "outputs": [
    {
     "data": {
      "text/plain": [
       "(26,)"
      ]
     },
     "execution_count": 21,
     "metadata": {},
     "output_type": "execute_result"
    }
   ],
   "source": [
    "data.qvel.shape"
   ]
  },
  {
   "cell_type": "code",
   "execution_count": null,
   "metadata": {},
   "outputs": [
    {
     "data": {
      "text/plain": [
       "(27,)"
      ]
     },
     "execution_count": 23,
     "metadata": {},
     "output_type": "execute_result"
    }
   ],
   "source": [
    "data.qpos.shape"
   ]
  },
  {
   "cell_type": "code",
   "execution_count": null,
   "metadata": {},
   "outputs": [],
   "source": [
    "joints = ['joint_1', 'joint_11', 'joint_12', 'joint_13', 'joint_14', 'joint_2', 'joint_21', 'joint_22', 'joint_23', 'joint_24', 'joint_3', 'joint_31', 'joint_32', 'joint_33', 'joint_34', 'joint_4', 'joint_41', 'joint_42', 'joint_43', 'joint_44']"
   ]
  },
  {
   "cell_type": "code",
   "execution_count": null,
   "metadata": {},
   "outputs": [
    {
     "data": {
      "text/plain": [
       "array([ 1.00000000e+00, -8.99751939e-07, -6.38322740e-06, -3.53578404e-07])"
      ]
     },
     "execution_count": 53,
     "metadata": {},
     "output_type": "execute_result"
    }
   ],
   "source": [
    "data.body('part_1').xquat"
   ]
  },
  {
   "cell_type": "code",
   "execution_count": null,
   "metadata": {},
   "outputs": [
    {
     "data": {
      "text/plain": [
       "array([-5.99538631e-06])"
      ]
     },
     "execution_count": 59,
     "metadata": {},
     "output_type": "execute_result"
    }
   ],
   "source": [
    "data.body('part_1').xpos[2:]"
   ]
  },
  {
   "cell_type": "code",
   "execution_count": null,
   "metadata": {},
   "outputs": [
    {
     "data": {
      "text/plain": [
       "(4,)"
      ]
     },
     "execution_count": 68,
     "metadata": {},
     "output_type": "execute_result"
    }
   ],
   "source": [
    "data.body('part_1').xquat.shape"
   ]
  },
  {
   "cell_type": "code",
   "execution_count": null,
   "metadata": {},
   "outputs": [
    {
     "data": {
      "text/plain": [
       "(20, 1)"
      ]
     },
     "execution_count": 86,
     "metadata": {},
     "output_type": "execute_result"
    }
   ],
   "source": [
    "np.stack([data.joint(jnt).qpos for jnt in joints], axis=0).shape"
   ]
  },
  {
   "cell_type": "code",
   "execution_count": null,
   "metadata": {},
   "outputs": [],
   "source": [
    "def get_state(data):\n",
    "    return np.concatenate([\n",
    "        np.vstack([data.joint(jnt).qpos for jnt in joints]).reshape(-1),\n",
    "        np.stack([data.joint(jnt).qvel for jnt in joints]).reshape(-1),\n",
    "        data.body('part_1').xquat,\n",
    "        data.body('part_1').xpos[2:]])\n"
   ]
  },
  {
   "cell_type": "code",
   "execution_count": null,
   "metadata": {},
   "outputs": [
    {
     "data": {
      "text/plain": [
       "tensor(1)"
      ]
     },
     "execution_count": 106,
     "metadata": {},
     "output_type": "execute_result"
    }
   ],
   "source": [
    "tc.from_numpy(np.array(1))"
   ]
  },
  {
   "cell_type": "code",
   "execution_count": null,
   "metadata": {},
   "outputs": [
    {
     "data": {
      "text/plain": [
       "tensor(1.)"
      ]
     },
     "execution_count": 111,
     "metadata": {},
     "output_type": "execute_result"
    }
   ],
   "source": [
    "# np.float64(1) into torch tensor\n",
    "tc.from_numpy(np.array(1)).float()"
   ]
  },
  {
   "cell_type": "code",
   "execution_count": null,
   "metadata": {},
   "outputs": [
    {
     "data": {
      "text/plain": [
       "numpy.ndarray"
      ]
     },
     "execution_count": 115,
     "metadata": {},
     "output_type": "execute_result"
    }
   ],
   "source": [
    "type(data.body('part_1').xpos)"
   ]
  },
  {
   "cell_type": "code",
   "execution_count": null,
   "metadata": {},
   "outputs": [],
   "source": [
    "def loss_func(data):\n",
    "    return tc.from_numpy(data.body('part_1').xpos)[0]"
   ]
  },
  {
   "cell_type": "code",
   "execution_count": null,
   "metadata": {},
   "outputs": [],
   "source": [
    "optimizer = optim.Adam(model.parameters(), lr=0.001)"
   ]
  },
  {
   "cell_type": "code",
   "execution_count": null,
   "metadata": {},
   "outputs": [
    {
     "ename": "AttributeError",
     "evalue": "'mujoco._structs.MjData' object has no attribute 'get_body_xpos'",
     "output_type": "error",
     "traceback": [
      "\u001b[0;31m---------------------------------------------------------------------------\u001b[0m",
      "\u001b[0;31mAttributeError\u001b[0m                            Traceback (most recent call last)",
      "Cell \u001b[0;32mIn [126], line 1\u001b[0m\n\u001b[0;32m----> 1\u001b[0m data\u001b[39m.\u001b[39;49mget_body_xpos\n",
      "\u001b[0;31mAttributeError\u001b[0m: 'mujoco._structs.MjData' object has no attribute 'get_body_xpos'"
     ]
    }
   ],
   "source": [
    "data.get_body_xpos"
   ]
  },
  {
   "cell_type": "code",
   "execution_count": null,
   "metadata": {},
   "outputs": [
    {
     "ename": "AttributeError",
     "evalue": "'mujoco._structs.MjModel' object has no attribute 'getbodycom'",
     "output_type": "error",
     "traceback": [
      "\u001b[0;31m---------------------------------------------------------------------------\u001b[0m",
      "\u001b[0;31mAttributeError\u001b[0m                            Traceback (most recent call last)",
      "Cell \u001b[0;32mIn [125], line 1\u001b[0m\n\u001b[0;32m----> 1\u001b[0m model\u001b[39m.\u001b[39;49mgetbodycom\n",
      "\u001b[0;31mAttributeError\u001b[0m: 'mujoco._structs.MjModel' object has no attribute 'getbodycom'"
     ]
    }
   ],
   "source": [
    "model.getbodycom"
   ]
  },
  {
   "cell_type": "code",
   "execution_count": null,
   "metadata": {},
   "outputs": [
    {
     "ename": "AttributeError",
     "evalue": "'mujoco._structs.MjModel' object has no attribute 'act'",
     "output_type": "error",
     "traceback": [
      "\u001b[0;31m---------------------------------------------------------------------------\u001b[0m",
      "\u001b[0;31mAttributeError\u001b[0m                            Traceback (most recent call last)",
      "Cell \u001b[0;32mIn [122], line 4\u001b[0m\n\u001b[1;32m      2\u001b[0m tcmodel \u001b[39m=\u001b[39m BasicLinear()\n\u001b[1;32m      3\u001b[0m act \u001b[39m=\u001b[39m tcmodel\u001b[39m.\u001b[39mforward(state)\n\u001b[0;32m----> 4\u001b[0m model\u001b[39m.\u001b[39;49mact(act)\n",
      "\u001b[0;31mAttributeError\u001b[0m: 'mujoco._structs.MjModel' object has no attribute 'act'"
     ]
    }
   ],
   "source": [
    "state = tc.Tensor(get_state(data))\n",
    "tcmodel = BasicLinear()\n",
    "act = tcmodel.forward(state)"
   ]
  },
  {
   "cell_type": "code",
   "execution_count": null,
   "metadata": {},
   "outputs": [
    {
     "name": "stdout",
     "output_type": "stream",
     "text": [
      "[-1.34927996e-05]\n",
      "[-0.0067464]\n",
      "(27,)\n"
     ]
    }
   ],
   "source": [
    "print(data.joint('joint_1').qpos)\n",
    "print(data.joint('joint_1').qvel)\n",
    "print(data.qpos.shape)"
   ]
  },
  {
   "cell_type": "code",
   "execution_count": null,
   "metadata": {},
   "outputs": [],
   "source": [
    "mujoco.mj_step(model, data)"
   ]
  },
  {
   "cell_type": "code",
   "execution_count": null,
   "metadata": {},
   "outputs": [],
   "source": [
    "\n",
    "mujoco.mj_step(model, data)"
   ]
  },
  {
   "cell_type": "code",
   "execution_count": 4,
   "metadata": {},
   "outputs": [
    {
     "data": {
      "text/plain": [
       "499500"
      ]
     },
     "execution_count": 4,
     "metadata": {},
     "output_type": "execute_result"
    }
   ],
   "source": [
    "sum([0,1,2,3,4,5,6,7,8,9,10,11,12,13,14,15,16,17,18,19,20,21,22,23,24,25,26,27,28,29,30,31,32,33,34,35,36,37,38,39,40,41,42,43,44,45,46,47,48,49,50,51,52,53,54,55,56,57,58,59,60,61,62,63,64,65,66,67,68,69,70,71,72,73,74,75,76,77,78,79,80,81,82,83,84,85,86,87,88,89,90,91,92,93,94,95,96,97,98,99,100,101,102,103,104,105,106,107,108,109,110,111,112,113,114,115,116,117,118,119,120,121,122,123,124,125,126,127,128,129,130,131,132,133,134,135,136,137,138,139,140,141,142,143,144,145,146,147,148,149,150,151,152,153,154,155,156,157,158,159,160,161,162,163,164,165,166,167,168,169,170,171,172,173,174,175,176,177,178,179,180,181,182,183,184,185,186,187,188,189,190,191,192,193,194,195,196,197,198,199,200,201,202,203,204,205,206,207,208,209,210,211,212,213,214,215,216,217,218,219,220,221,222,223,224,225,226,227,228,229,230,231,232,233,234,235,236,237,238,239,240,241,242,243,244,245,246,247,248,249,250,251,252,253,254,255,256,257,258,259,260,261,262,263,264,265,266,267,268,269,270,271,272,273,274,275,276,277,278,279,280,281,282,283,284,285,286,287,288,289,290,291,292,293,294,295,296,297,298,299,300,301,302,303,304,305,306,307,308,309,310,311,312,313,314,315,316,317,318,319,320,321,322,323,324,325,326,327,328,329,330,331,332,333,334,335,336,337,338,339,340,341,342,343,344,345,346,347,348,349,350,351,352,353,354,355,356,357,358,359,360,361,362,363,364,365,366,367,368,369,370,371,372,373,374,375,376,377,378,379,380,381,382,383,384,385,386,387,388,389,390,391,392,393,394,395,396,397,398,399,400,401,402,403,404,405,406,407,408,409,410,411,412,413,414,415,416,417,418,419,420,421,422,423,424,425,426,427,428,429,430,431,432,433,434,435,436,437,438,439,440,441,442,443,444,445,446,447,448,449,450,451,452,453,454,455,456,457,458,459,460,461,462,463,464,465,466,467,468,469,470,471,472,473,474,475,476,477,478,479,480,481,482,483,484,485,486,487,488,489,490,491,492,493,494,495,496,497,498,499,500,501,502,503,504,505,506,507,508,509,510,511,512,513,514,515,516,517,518,519,520,521,522,523,524,525,526,527,528,529,530,531,532,533,534,535,536,537,538,539,540,541,542,543,544,545,546,547,548,549,550,551,552,553,554,555,556,557,558,559,560,561,562,563,564,565,566,567,568,569,570,571,572,573,574,575,576,577,578,579,580,581,582,583,584,585,586,587,588,589,590,591,592,593,594,595,596,597,598,599,600,601,602,603,604,605,606,607,608,609,610,611,612,613,614,615,616,617,618,619,620,621,622,623,624,625,626,627,628,629,630,631,632,633,634,635,636,637,638,639,640,641,642,643,644,645,646,647,648,649,650,651,652,653,654,655,656,657,658,659,660,661,662,663,664,665,666,667,668,669,670,671,672,673,674,675,676,677,678,679,680,681,682,683,684,685,686,687,688,689,690,691,692,693,694,695,696,697,698,699,700,701,702,703,704,705,706,707,708,709,710,711,712,713,714,715,716,717,718,719,720,721,722,723,724,725,726,727,728,729,730,731,732,733,734,735,736,737,738,739,740,741,742,743,744,745,746,747,748,749,750,751,752,753,754,755,756,757,758,759,760,761,762,763,764,765,766,767,768,769,770,771,772,773,774,775,776,777,778,779,780,781,782,783,784,785,786,787,788,789,790,791,792,793,794,795,796,797,798,799,800,801,802,803,804,805,806,807,808,809,810,811,812,813,814,815,816,817,818,819,820,821,822,823,824,825,826,827,828,829,830,831,832,833,834,835,836,837,838,839,840,841,842,843,844,845,846,847,848,849,850,851,852,853,854,855,856,857,858,859,860,861,862,863,864,865,866,867,868,869,870,871,872,873,874,875,876,877,878,879,880,881,882,883,884,885,886,887,888,889,890,891,892,893,894,895,896,897,898,899,900,901,902,903,904,905,906,907,908,909,910,911,912,913,914,915,916,917,918,919,920,921,922,923,924,925,926,927,928,929,930,931,932,933,934,935,936,937,938,939,940,941,942,943,944,945,946,947,948,949,950,951,952,953,954,955,956,957,958,959,960,961,962,963,964,965,966,967,968,969,970,971,972,973,974,975,976,977,978,979,980,981,982,983,984,985,986,987,988,989,990,991,992,993,994,995,996,997,998,999])"
   ]
  },
  {
   "cell_type": "code",
   "execution_count": null,
   "metadata": {},
   "outputs": [
    {
     "data": {
      "text/plain": [
       "['D_colind',\n",
       " 'D_rowadr',\n",
       " 'D_rownnz',\n",
       " '__class__',\n",
       " '__copy__',\n",
       " '__deepcopy__',\n",
       " '__delattr__',\n",
       " '__dir__',\n",
       " '__doc__',\n",
       " '__eq__',\n",
       " '__format__',\n",
       " '__ge__',\n",
       " '__getattribute__',\n",
       " '__getstate__',\n",
       " '__gt__',\n",
       " '__hash__',\n",
       " '__init__',\n",
       " '__init_subclass__',\n",
       " '__le__',\n",
       " '__lt__',\n",
       " '__module__',\n",
       " '__ne__',\n",
       " '__new__',\n",
       " '__reduce__',\n",
       " '__reduce_ex__',\n",
       " '__repr__',\n",
       " '__setattr__',\n",
       " '__setstate__',\n",
       " '__sizeof__',\n",
       " '__str__',\n",
       " '__subclasshook__',\n",
       " '_address',\n",
       " 'act',\n",
       " 'act_dot',\n",
       " 'actuator',\n",
       " 'actuator_force',\n",
       " 'actuator_length',\n",
       " 'actuator_moment',\n",
       " 'actuator_velocity',\n",
       " 'body',\n",
       " 'cacc',\n",
       " 'cam',\n",
       " 'cam_xmat',\n",
       " 'cam_xpos',\n",
       " 'camera',\n",
       " 'cdof',\n",
       " 'cdof_dot',\n",
       " 'cfrc_ext',\n",
       " 'cfrc_int',\n",
       " 'cinert',\n",
       " 'contact',\n",
       " 'crb',\n",
       " 'ctrl',\n",
       " 'cvel',\n",
       " 'efc_AR',\n",
       " 'efc_AR_colind',\n",
       " 'efc_AR_rowadr',\n",
       " 'efc_AR_rownnz',\n",
       " 'efc_D',\n",
       " 'efc_J',\n",
       " 'efc_JT',\n",
       " 'efc_JT_colind',\n",
       " 'efc_JT_rowadr',\n",
       " 'efc_JT_rownnz',\n",
       " 'efc_JT_rowsuper',\n",
       " 'efc_J_colind',\n",
       " 'efc_J_rowadr',\n",
       " 'efc_J_rownnz',\n",
       " 'efc_J_rowsuper',\n",
       " 'efc_KBIP',\n",
       " 'efc_R',\n",
       " 'efc_aref',\n",
       " 'efc_b',\n",
       " 'efc_diagApprox',\n",
       " 'efc_force',\n",
       " 'efc_frictionloss',\n",
       " 'efc_id',\n",
       " 'efc_margin',\n",
       " 'efc_pos',\n",
       " 'efc_state',\n",
       " 'efc_type',\n",
       " 'efc_vel',\n",
       " 'energy',\n",
       " 'geom',\n",
       " 'geom_xmat',\n",
       " 'geom_xpos',\n",
       " 'jnt',\n",
       " 'joint',\n",
       " 'light',\n",
       " 'light_xdir',\n",
       " 'light_xpos',\n",
       " 'maxuse_con',\n",
       " 'maxuse_efc',\n",
       " 'maxuse_stack',\n",
       " 'mocap_pos',\n",
       " 'mocap_quat',\n",
       " 'nbuffer',\n",
       " 'ncon',\n",
       " 'ne',\n",
       " 'nefc',\n",
       " 'nf',\n",
       " 'nstack',\n",
       " 'plugin',\n",
       " 'plugin_data',\n",
       " 'plugin_state',\n",
       " 'pstack',\n",
       " 'qDeriv',\n",
       " 'qH',\n",
       " 'qHDiagInv',\n",
       " 'qLD',\n",
       " 'qLDiagInv',\n",
       " 'qLDiagSqrtInv',\n",
       " 'qLU',\n",
       " 'qM',\n",
       " 'qacc',\n",
       " 'qacc_smooth',\n",
       " 'qacc_warmstart',\n",
       " 'qfrc_actuator',\n",
       " 'qfrc_applied',\n",
       " 'qfrc_bias',\n",
       " 'qfrc_constraint',\n",
       " 'qfrc_inverse',\n",
       " 'qfrc_passive',\n",
       " 'qfrc_smooth',\n",
       " 'qpos',\n",
       " 'qvel',\n",
       " 'sensor',\n",
       " 'sensordata',\n",
       " 'site',\n",
       " 'site_xmat',\n",
       " 'site_xpos',\n",
       " 'solver',\n",
       " 'solver_fwdinv',\n",
       " 'solver_iter',\n",
       " 'solver_nnz',\n",
       " 'subtree_angmom',\n",
       " 'subtree_com',\n",
       " 'subtree_linvel',\n",
       " 'ten',\n",
       " 'ten_J',\n",
       " 'ten_J_colind',\n",
       " 'ten_J_rowadr',\n",
       " 'ten_J_rownnz',\n",
       " 'ten_length',\n",
       " 'ten_velocity',\n",
       " 'ten_wrapadr',\n",
       " 'ten_wrapnum',\n",
       " 'tendon',\n",
       " 'time',\n",
       " 'timer',\n",
       " 'userdata',\n",
       " 'warning',\n",
       " 'wrap_obj',\n",
       " 'wrap_xpos',\n",
       " 'xanchor',\n",
       " 'xaxis',\n",
       " 'xfrc_applied',\n",
       " 'ximat',\n",
       " 'xipos',\n",
       " 'xmat',\n",
       " 'xpos',\n",
       " 'xquat']"
      ]
     },
     "execution_count": 55,
     "metadata": {},
     "output_type": "execute_result"
    }
   ],
   "source": [
    "dir(data)"
   ]
  },
  {
   "cell_type": "code",
   "execution_count": null,
   "metadata": {},
   "outputs": [],
   "source": [
    "array([ 5.46373716e-05, -7.49202717e-06, -4.84257660e-05])"
   ]
  },
  {
   "cell_type": "code",
   "execution_count": null,
   "metadata": {},
   "outputs": [
    {
     "data": {
      "text/plain": [
       "array([], dtype=float64)"
      ]
     },
     "execution_count": 76,
     "metadata": {},
     "output_type": "execute_result"
    }
   ],
   "source": [
    "data.act"
   ]
  },
  {
   "cell_type": "code",
   "execution_count": null,
   "metadata": {},
   "outputs": [
    {
     "data": {
      "text/plain": [
       "['D_colind',\n",
       " 'D_rowadr',\n",
       " 'D_rownnz',\n",
       " '__class__',\n",
       " '__copy__',\n",
       " '__deepcopy__',\n",
       " '__delattr__',\n",
       " '__dir__',\n",
       " '__doc__',\n",
       " '__eq__',\n",
       " '__format__',\n",
       " '__ge__',\n",
       " '__getattribute__',\n",
       " '__getstate__',\n",
       " '__gt__',\n",
       " '__hash__',\n",
       " '__init__',\n",
       " '__init_subclass__',\n",
       " '__le__',\n",
       " '__lt__',\n",
       " '__module__',\n",
       " '__ne__',\n",
       " '__new__',\n",
       " '__reduce__',\n",
       " '__reduce_ex__',\n",
       " '__repr__',\n",
       " '__setattr__',\n",
       " '__setstate__',\n",
       " '__sizeof__',\n",
       " '__str__',\n",
       " '__subclasshook__',\n",
       " '_address',\n",
       " 'act',\n",
       " 'act_dot',\n",
       " 'actuator',\n",
       " 'actuator_force',\n",
       " 'actuator_length',\n",
       " 'actuator_moment',\n",
       " 'actuator_velocity',\n",
       " 'body',\n",
       " 'cacc',\n",
       " 'cam',\n",
       " 'cam_xmat',\n",
       " 'cam_xpos',\n",
       " 'camera',\n",
       " 'cdof',\n",
       " 'cdof_dot',\n",
       " 'cfrc_ext',\n",
       " 'cfrc_int',\n",
       " 'cinert',\n",
       " 'contact',\n",
       " 'crb',\n",
       " 'ctrl',\n",
       " 'cvel',\n",
       " 'efc_AR',\n",
       " 'efc_AR_colind',\n",
       " 'efc_AR_rowadr',\n",
       " 'efc_AR_rownnz',\n",
       " 'efc_D',\n",
       " 'efc_J',\n",
       " 'efc_JT',\n",
       " 'efc_JT_colind',\n",
       " 'efc_JT_rowadr',\n",
       " 'efc_JT_rownnz',\n",
       " 'efc_JT_rowsuper',\n",
       " 'efc_J_colind',\n",
       " 'efc_J_rowadr',\n",
       " 'efc_J_rownnz',\n",
       " 'efc_J_rowsuper',\n",
       " 'efc_KBIP',\n",
       " 'efc_R',\n",
       " 'efc_aref',\n",
       " 'efc_b',\n",
       " 'efc_diagApprox',\n",
       " 'efc_force',\n",
       " 'efc_frictionloss',\n",
       " 'efc_id',\n",
       " 'efc_margin',\n",
       " 'efc_pos',\n",
       " 'efc_state',\n",
       " 'efc_type',\n",
       " 'efc_vel',\n",
       " 'energy',\n",
       " 'geom',\n",
       " 'geom_xmat',\n",
       " 'geom_xpos',\n",
       " 'jnt',\n",
       " 'joint',\n",
       " 'light',\n",
       " 'light_xdir',\n",
       " 'light_xpos',\n",
       " 'maxuse_con',\n",
       " 'maxuse_efc',\n",
       " 'maxuse_stack',\n",
       " 'mocap_pos',\n",
       " 'mocap_quat',\n",
       " 'nbuffer',\n",
       " 'ncon',\n",
       " 'ne',\n",
       " 'nefc',\n",
       " 'nf',\n",
       " 'nstack',\n",
       " 'pstack',\n",
       " 'qDeriv',\n",
       " 'qH',\n",
       " 'qHDiagInv',\n",
       " 'qLD',\n",
       " 'qLDiagInv',\n",
       " 'qLDiagSqrtInv',\n",
       " 'qLU',\n",
       " 'qM',\n",
       " 'qacc',\n",
       " 'qacc_smooth',\n",
       " 'qacc_warmstart',\n",
       " 'qfrc_actuator',\n",
       " 'qfrc_applied',\n",
       " 'qfrc_bias',\n",
       " 'qfrc_constraint',\n",
       " 'qfrc_inverse',\n",
       " 'qfrc_passive',\n",
       " 'qfrc_smooth',\n",
       " 'qpos',\n",
       " 'qvel',\n",
       " 'sensor',\n",
       " 'sensordata',\n",
       " 'site',\n",
       " 'site_xmat',\n",
       " 'site_xpos',\n",
       " 'solver',\n",
       " 'solver_fwdinv',\n",
       " 'solver_iter',\n",
       " 'solver_nnz',\n",
       " 'subtree_angmom',\n",
       " 'subtree_com',\n",
       " 'subtree_linvel',\n",
       " 'ten',\n",
       " 'ten_J',\n",
       " 'ten_J_colind',\n",
       " 'ten_J_rowadr',\n",
       " 'ten_J_rownnz',\n",
       " 'ten_length',\n",
       " 'ten_velocity',\n",
       " 'ten_wrapadr',\n",
       " 'ten_wrapnum',\n",
       " 'tendon',\n",
       " 'time',\n",
       " 'timer',\n",
       " 'userdata',\n",
       " 'warning',\n",
       " 'wrap_obj',\n",
       " 'wrap_xpos',\n",
       " 'xanchor',\n",
       " 'xaxis',\n",
       " 'xfrc_applied',\n",
       " 'ximat',\n",
       " 'xipos',\n",
       " 'xmat',\n",
       " 'xpos',\n",
       " 'xquat']"
      ]
     },
     "execution_count": 57,
     "metadata": {},
     "output_type": "execute_result"
    }
   ],
   "source": [
    "dir(data)"
   ]
  },
  {
   "cell_type": "code",
   "execution_count": null,
   "metadata": {},
   "outputs": [
    {
     "data": {
      "text/plain": [
       "(22, 3)"
      ]
     },
     "execution_count": 78,
     "metadata": {},
     "output_type": "execute_result"
    }
   ],
   "source": [
    "data.xpos.shape"
   ]
  },
  {
   "cell_type": "code",
   "execution_count": null,
   "metadata": {},
   "outputs": [
    {
     "data": {
      "text/plain": [
       "(26,)"
      ]
     },
     "execution_count": 59,
     "metadata": {},
     "output_type": "execute_result"
    }
   ],
   "source": [
    "data.qvel.shape"
   ]
  },
  {
   "cell_type": "code",
   "execution_count": null,
   "metadata": {},
   "outputs": [
    {
     "data": {
      "text/plain": [
       "(20,)"
      ]
     },
     "execution_count": 60,
     "metadata": {},
     "output_type": "execute_result"
    }
   ],
   "source": [
    "data.ctrl.shape"
   ]
  },
  {
   "cell_type": "code",
   "execution_count": null,
   "metadata": {},
   "outputs": [
    {
     "data": {
      "text/plain": [
       "0.005358740071671546"
      ]
     },
     "execution_count": 30,
     "metadata": {},
     "output_type": "execute_result"
    }
   ],
   "source": [
    "data.body('part_1').xpos[0]"
   ]
  },
  {
   "cell_type": "code",
   "execution_count": null,
   "metadata": {},
   "outputs": [],
   "source": [
    "print('time is',data.time)\n",
    "print('qpos is',data.qpos)\n",
    "print('qvel is',data.qvel)\n",
    "print('act is',data.act)\n",
    "print('xpos is',data.xpos)\n",
    "print('xmat is',data.xmat)\n",
    "print('xipos is',data.xipos)"
   ]
  },
  {
   "cell_type": "markdown",
   "metadata": {},
   "source": [
    "data.body(\"part_1\")"
   ]
  },
  {
   "cell_type": "code",
   "execution_count": null,
   "metadata": {},
   "outputs": [],
   "source": [
    "\n",
    "# plt.axis([0, 10, 0, 1])\n",
    "ctx = mujoco.GLContext(max_width=1000, max_height=1000)\n",
    "ctx.make_current()\n",
    "for _ in range(1):\n",
    "    mujoco.mj_step(model, data)\n",
    "    # print(data.body('part_1').xvel[0])\n",
    "    # print(data.qpos.shape)\n",
    "    # plt.scatter(np.arange(20), data.qpos[:20])\n",
    "    \n",
    "    # plt.pause(0.05)\n",
    "# plt.show()\n",
    "ctx.free()"
   ]
  },
  {
   "cell_type": "code",
   "execution_count": null,
   "metadata": {},
   "outputs": [],
   "source": []
  }
 ],
 "metadata": {
  "kernelspec": {
   "display_name": "Python 3.8.15 ('opai38')",
   "language": "python",
   "name": "python3"
  },
  "language_info": {
   "codemirror_mode": {
    "name": "ipython",
    "version": 3
   },
   "file_extension": ".py",
   "mimetype": "text/x-python",
   "name": "python",
   "nbconvert_exporter": "python",
   "pygments_lexer": "ipython3",
   "version": "3.8.12"
  },
  "orig_nbformat": 4,
  "vscode": {
   "interpreter": {
    "hash": "7d3f835a4b948784ca20ac72d64ce18f0dda5bbcfae06d93dd95fbc6fda5db3f"
   }
  }
 },
 "nbformat": 4,
 "nbformat_minor": 2
}
